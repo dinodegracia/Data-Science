{
    "cells": [
        {
            "cell_type": "markdown",
            "metadata": {
                "id": "7a7dedb7-d719-4db7-afb0-3f1985790846"
            },
            "source": "# My Jupyter Notebook on IBM watsonx.ai"
        },
        {
            "cell_type": "markdown",
            "metadata": {
                "msg_id": "0b45f9a7-4e4c-4de3-8415-279ebba808b2"
            },
            "source": "**Dino Wilfred de Gracia**\n\nData Analyst"
        },
        {
            "cell_type": "markdown",
            "metadata": {
                "msg_id": "5911a22c-d6f0-4288-b281-561df2049da6"
            },
            "source": "*I\u2019m interested in data science because it allows me to uncover meaningful insights from complex data, turning patterns into actionable knowledge that can drive smarter decisions. I enjoy the blend of problem-solving, statistical thinking, and technology that makes data science both creative and impactful.*\n"
        },
        {
            "cell_type": "markdown",
            "metadata": {
                "msg_id": "f24223d4-a722-4a2b-b57b-49a054367337"
            },
            "source": "### Below is a simple Python code to print \"Hello, World!"
        },
        {
            "cell_type": "code",
            "execution_count": 6,
            "metadata": {
                "msg_id": "922ccb8e-5727-4bc7-b755-eb03e74cefa4"
            },
            "outputs": [
                {
                    "name": "stdout",
                    "output_type": "stream",
                    "text": "Hello, World!\n"
                }
            ],
            "source": "print('Hello, World!')"
        },
        {
            "cell_type": "markdown",
            "metadata": {},
            "source": "**Markdown samples**\n\nBulleted List (Unordered List)\n- Item 1  \n- Item 2  \n  - Sub-item 2.1  \n  - Sub-item 2.2  \n- Item 3\n\nNumbered List\n1. First item  \n2. Second item  \n3. Third item  \n   1. Sub-item 3.1  \n   2. Sub-item 3.2\n\nTable\n| Name     | Age | City       |\n|----------|-----|------------|\n| Alice    | 25  | New York   |\n| Bob      | 30  | London     |\n| Charlie  | 28  | San Diego  |\n\nHyperlink\n[OpenAI](https://www.openai.com)\n\nImage\n![Alt Text](https://upload.wikimedia.org/wikipedia/commons/3/38/Jupyter_logo.svg)\n"
        },
        {
            "cell_type": "code",
            "execution_count": null,
            "metadata": {},
            "outputs": [],
            "source": ""
        }
    ],
    "metadata": {
        "kernelspec": {
            "display_name": "Python 3.11 with Spark",
            "language": "python3",
            "name": "python311"
        },
        "language_info": {
            "codemirror_mode": {
                "name": "ipython",
                "version": 3
            },
            "file_extension": ".py",
            "mimetype": "text/x-python",
            "name": "python",
            "nbconvert_exporter": "python",
            "pygments_lexer": "ipython3",
            "version": "3.11.13"
        }
    },
    "nbformat": 4,
    "nbformat_minor": 4
}