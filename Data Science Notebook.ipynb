{
    "cells": [
        {
            "cell_type": "markdown",
            "metadata": {
                "id": "7a7dedb7-d719-4db7-afb0-3f1985790846"
            },
            "source": "# My Jupyter Notebook on IBM watsonx.ai"
        },
        {
            "cell_type": "markdown",
            "metadata": {
                "msg_id": "0b45f9a7-4e4c-4de3-8415-279ebba808b2"
            },
            "source": "**Dino Wilfred de Gracia**\n\nData Analyst"
        },
        {
            "cell_type": "code",
            "execution_count": null,
            "metadata": {},
            "outputs": [],
            "source": ""
        }
    ],
    "metadata": {
        "kernelspec": {
            "display_name": "Python 3.11 with Spark",
            "language": "python3",
            "name": "python311"
        },
        "language_info": {
            "codemirror_mode": {
                "name": "ipython",
                "version": 3
            },
            "file_extension": ".py",
            "mimetype": "text/x-python",
            "name": "python",
            "nbconvert_exporter": "python",
            "pygments_lexer": "ipython3",
            "version": "3.11.13"
        }
    },
    "nbformat": 4,
    "nbformat_minor": 4
}